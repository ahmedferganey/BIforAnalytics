{
 "cells": [
  {
   "cell_type": "markdown",
   "id": "c1481436",
   "metadata": {},
   "source": [
    "# **1. Data Cleaning**"
   ]
  },
  {
   "cell_type": "code",
   "execution_count": 90,
   "id": "76088bdb",
   "metadata": {},
   "outputs": [
    {
     "name": "stdout",
     "output_type": "stream",
     "text": [
      "Requirement already satisfied: pandas in c:\\users\\ahmedabobakr\\appdata\\local\\programs\\python\\python312\\lib\\site-packages (2.3.0)\n",
      "Requirement already satisfied: openpyxl in c:\\users\\ahmedabobakr\\appdata\\local\\programs\\python\\python312\\lib\\site-packages (3.1.5)\n",
      "Requirement already satisfied: numpy>=1.26.0 in c:\\users\\ahmedabobakr\\appdata\\local\\programs\\python\\python312\\lib\\site-packages (from pandas) (2.3.1)\n",
      "Requirement already satisfied: python-dateutil>=2.8.2 in c:\\users\\ahmedabobakr\\appdata\\local\\programs\\python\\python312\\lib\\site-packages (from pandas) (2.9.0.post0)\n",
      "Requirement already satisfied: pytz>=2020.1 in c:\\users\\ahmedabobakr\\appdata\\local\\programs\\python\\python312\\lib\\site-packages (from pandas) (2025.2)\n",
      "Requirement already satisfied: tzdata>=2022.7 in c:\\users\\ahmedabobakr\\appdata\\local\\programs\\python\\python312\\lib\\site-packages (from pandas) (2025.2)\n",
      "Requirement already satisfied: et-xmlfile in c:\\users\\ahmedabobakr\\appdata\\local\\programs\\python\\python312\\lib\\site-packages (from openpyxl) (2.0.0)\n",
      "Requirement already satisfied: six>=1.5 in c:\\users\\ahmedabobakr\\appdata\\local\\programs\\python\\python312\\lib\\site-packages (from python-dateutil>=2.8.2->pandas) (1.17.0)\n"
     ]
    },
    {
     "name": "stderr",
     "output_type": "stream",
     "text": [
      "\n",
      "[notice] A new release of pip is available: 25.0.1 -> 25.1.1\n",
      "[notice] To update, run: python.exe -m pip install --upgrade pip\n"
     ]
    }
   ],
   "source": [
    "!pip install pandas openpyxl\n"
   ]
  },
  {
   "cell_type": "code",
   "execution_count": 106,
   "id": "3ea83424",
   "metadata": {},
   "outputs": [],
   "source": [
    "import pandas as pd\n"
   ]
  },
  {
   "cell_type": "code",
   "execution_count": 107,
   "id": "15394b37",
   "metadata": {},
   "outputs": [
    {
     "name": "stderr",
     "output_type": "stream",
     "text": [
      "c:\\Users\\ahmedabobakr\\AppData\\Local\\Programs\\Python\\Python312\\Lib\\site-packages\\openpyxl\\worksheet\\_reader.py:329: UserWarning: Data Validation extension is not supported and will be removed\n",
      "  warn(msg)\n",
      "c:\\Users\\ahmedabobakr\\AppData\\Local\\Programs\\Python\\Python312\\Lib\\site-packages\\openpyxl\\worksheet\\_reader.py:329: UserWarning: Data Validation extension is not supported and will be removed\n",
      "  warn(msg)\n",
      "c:\\Users\\ahmedabobakr\\AppData\\Local\\Programs\\Python\\Python312\\Lib\\site-packages\\openpyxl\\worksheet\\_reader.py:329: UserWarning: Data Validation extension is not supported and will be removed\n",
      "  warn(msg)\n",
      "c:\\Users\\ahmedabobakr\\AppData\\Local\\Programs\\Python\\Python312\\Lib\\site-packages\\openpyxl\\worksheet\\_reader.py:329: UserWarning: Data Validation extension is not supported and will be removed\n",
      "  warn(msg)\n",
      "c:\\Users\\ahmedabobakr\\AppData\\Local\\Programs\\Python\\Python312\\Lib\\site-packages\\openpyxl\\worksheet\\_reader.py:329: UserWarning: Data Validation extension is not supported and will be removed\n",
      "  warn(msg)\n",
      "c:\\Users\\ahmedabobakr\\AppData\\Local\\Programs\\Python\\Python312\\Lib\\site-packages\\openpyxl\\worksheet\\_reader.py:329: UserWarning: Data Validation extension is not supported and will be removed\n",
      "  warn(msg)\n"
     ]
    }
   ],
   "source": [
    "df_models = pd.read_excel('ProductionData.xlsx', sheet_name='models')\n",
    "df_production_record = pd.read_excel('ProductionData.xlsx', sheet_name='production_record')\n",
    "df_repair = pd.read_excel('ProductionData.xlsx', sheet_name='repair')\n",
    "df_lab_samples = pd.read_excel('ProductionData.xlsx', sheet_name='lab_samples')\n",
    "df_scrap = pd.read_excel('ProductionData.xlsx', sheet_name='scrap')\n",
    "df_defective_cost = pd.read_excel('ProductionData.xlsx', sheet_name='defective_cost')\n",
    "df_action_plan = pd.read_excel('ProductionData.xlsx', sheet_name='action_plan')\n",
    "\n",
    "\n"
   ]
  },
  {
   "cell_type": "code",
   "execution_count": 108,
   "id": "56e111e2",
   "metadata": {},
   "outputs": [],
   "source": [
    "df_production_record = df_production_record.drop('##', axis=1)\n",
    "df_production_record = df_production_record.drop('#', axis=1)\n",
    "df_production_record = df_production_record.drop('جودة', axis=1)\n",
    "df_production_record = df_production_record.drop('مدة العمل المخطط', axis=1)\n",
    "df_repair            = df_repair.drop('Column2', axis=1)\n",
    "df_repair            = df_repair.drop('Column1', axis=1)\n",
    "df_repair = df_repair.dropna(axis=1, how='all')\n",
    "df_repair = df_repair.loc[:, ~df_repair.columns.str.contains('^Unnamed')]\n",
    "df_defective_cost = df_defective_cost.loc[:, ~df_defective_cost.columns.str.contains('^Unnamed')]\n"
   ]
  },
  {
   "cell_type": "code",
   "execution_count": null,
   "id": "60ac2f86",
   "metadata": {},
   "outputs": [],
   "source": [
    "# change column name\n",
    "df_models.columns             = ['date', 'month', 'day', 'model', 'production', 'repairs count', 'repairs percentage', 'start barcode',  'end barcode', 'quality']\n",
    "df_production_record.columns  = ['date', 'day', 'month', 'planned', 'actual production', 'no. technician', 'designed technician rate' , 'Rate According to Plan' , 'actual technicain rate' , 'total repaired counts','percentage total repaired' ,'counts repaired supplier ' ,'percentage repaired supplier' ,'production repaired counts' , 'production repaired percentage' ,'stopaage status' ,'stoppage time' , 'actual working hours' , 'performance' , 'target' ,'avaiability']         \n",
    "df_repair.columns             = ['date', 'month', 'day', 'model', 'defect', 'root cause', 'responsible', 'proposer',  'no. defects', 'production', 'percentage of repairs']                    \n",
    "df_lab_samples.columns        = ['date', 'day', 'month', 'production', 'model', 'samples count', 'defective count', 'PPM', 'defect']                         \n",
    "df_scrap.columns                = ['date',  'day', 'month','material code', 'material desciption', 'order no', 'order quantity', 'scrap quantity',  'unit', 'scrap rate', 'price per unit', 'total cost', 'scrap reason', 'NCR']                            \n",
    "df_defective_cost.columns       = ['month', 'day', 'year', 'model', 'count', 'cost', 'total']                    \n",
    "df_action_plan.columns         = ['defect', 'root cause', 'procedure', 'resposible', 'date', 'status']                   \n"
   ]
  },
  {
   "cell_type": "markdown",
   "id": "2601a02b",
   "metadata": {},
   "source": [
    "# **2. Data Preprocessing**"
   ]
  },
  {
   "cell_type": "code",
   "execution_count": 115,
   "id": "3174b344",
   "metadata": {},
   "outputs": [],
   "source": [
    "with pd.ExcelWriter('Cleaned_ProductionData.xlsx', engine='openpyxl') as writer:\n",
    "    df_models.to_excel(writer, sheet_name='models', index=False)\n",
    "    df_production_record.to_excel(writer, sheet_name='production_record', index=False)\n",
    "    df_repair.to_excel(writer, sheet_name='repair', index=False)\n",
    "    df_lab_samples.to_excel(writer, sheet_name='lab_samples', index=False)\n",
    "    df_scrap.to_excel(writer, sheet_name='scrap', index=False)\n",
    "    df_defective_cost.to_excel(writer, sheet_name='defective_cost', index=False)\n",
    "    df_action_plan.to_excel(writer, sheet_name='action_plan', index=False)"
   ]
  },
  {
   "cell_type": "code",
   "execution_count": 123,
   "id": "e0a5c39f",
   "metadata": {},
   "outputs": [
    {
     "name": "stdout",
     "output_type": "stream",
     "text": [
      "         defect                   root cause  \\\n",
      "0  لمبه_لا_تعمل           عدم  توصيل الاسلاك   \n",
      "1  لمبه_لا_تعمل  خروج السلك من هاوسنج اللمبه   \n",
      "2  لمبه_لا_تعمل          اطراف اللمبة مخلوفة   \n",
      "3  لمبه_لا_تعمل          عيب توريد في اللمبة   \n",
      "4        مقاومه       عيب عزل فلانشة \"توريد\"   \n",
      "\n",
      "                                   procedure     resposible       date status  \n",
      "0     تدريب الفنين علي طريقة التوصيل الجديدة   أ/ هاني محمد 2022-10-29     تم  \n",
      "1                       عمل شكوي عميل داخلي   م/ اسلام صديق 2022-10-09     تم  \n",
      "2  عمل شكوي عميل داخلي و ابلاغ مصنع المكونات  م/ اسلام صديق 2022-10-15     تم  \n",
      "3                       عمل شكوي عميل داخلي   م/ اسلام صديق 2022-10-17     تم  \n",
      "4                        عمل شكوي عميل خارجي  م/ اسلام صديق 2022-10-19     تم  \n",
      "<class 'pandas.core.frame.DataFrame'>\n",
      "RangeIndex: 13 entries, 0 to 12\n",
      "Data columns (total 6 columns):\n",
      " #   Column      Non-Null Count  Dtype         \n",
      "---  ------      --------------  -----         \n",
      " 0   defect      13 non-null     object        \n",
      " 1   root cause  13 non-null     object        \n",
      " 2   procedure   13 non-null     object        \n",
      " 3   resposible  13 non-null     object        \n",
      " 4   date        13 non-null     datetime64[ns]\n",
      " 5   status      13 non-null     object        \n",
      "dtypes: datetime64[ns](1), object(5)\n",
      "memory usage: 756.0+ bytes\n",
      "None\n",
      "                                date\n",
      "count                             13\n",
      "mean   2022-11-03 16:36:55.384615424\n",
      "min              2022-10-01 00:00:00\n",
      "25%              2022-10-17 00:00:00\n",
      "50%              2022-10-20 00:00:00\n",
      "75%              2022-12-05 00:00:00\n",
      "max              2022-12-23 00:00:00\n"
     ]
    }
   ],
   "source": [
    "print(df_action_plan.head())\n",
    "print(df_action_plan.info())\n",
    "print(df_action_plan.describe())"
   ]
  },
  {
   "cell_type": "code",
   "execution_count": null,
   "id": "38efc6d0",
   "metadata": {},
   "outputs": [],
   "source": []
  },
  {
   "cell_type": "code",
   "execution_count": null,
   "id": "0b8b56a8",
   "metadata": {},
   "outputs": [],
   "source": []
  },
  {
   "cell_type": "code",
   "execution_count": null,
   "id": "001678b7",
   "metadata": {},
   "outputs": [],
   "source": []
  },
  {
   "cell_type": "code",
   "execution_count": null,
   "id": "fa6c0f1d",
   "metadata": {},
   "outputs": [],
   "source": []
  },
  {
   "cell_type": "code",
   "execution_count": null,
   "id": "e8578a57",
   "metadata": {},
   "outputs": [],
   "source": []
  },
  {
   "cell_type": "code",
   "execution_count": null,
   "id": "ce9e20e8",
   "metadata": {},
   "outputs": [],
   "source": []
  },
  {
   "cell_type": "code",
   "execution_count": null,
   "id": "abdcf292",
   "metadata": {},
   "outputs": [],
   "source": []
  },
  {
   "cell_type": "code",
   "execution_count": null,
   "id": "3ec05e90",
   "metadata": {},
   "outputs": [],
   "source": []
  },
  {
   "cell_type": "code",
   "execution_count": 116,
   "id": "569b469e",
   "metadata": {},
   "outputs": [],
   "source": [
    "with pd.ExcelWriter('Cleaned_ProductionData.xlsx', engine='openpyxl') as writer:\n",
    "    df_models.to_excel(writer, sheet_name='models', index=False)\n",
    "    df_production_record.to_excel(writer, sheet_name='production_record', index=False)\n",
    "    df_repair.to_excel(writer, sheet_name='repair', index=False)\n",
    "    df_lab_samples.to_excel(writer, sheet_name='lab_samples', index=False)\n",
    "    df_scrap.to_excel(writer, sheet_name='scrap', index=False)\n",
    "    df_defective_cost.to_excel(writer, sheet_name='defective_cost', index=False)\n",
    "    df_action_plan.to_excel(writer, sheet_name='action_plan', index=False)"
   ]
  }
 ],
 "metadata": {
  "kernelspec": {
   "display_name": "Python 3",
   "language": "python",
   "name": "python3"
  },
  "language_info": {
   "codemirror_mode": {
    "name": "ipython",
    "version": 3
   },
   "file_extension": ".py",
   "mimetype": "text/x-python",
   "name": "python",
   "nbconvert_exporter": "python",
   "pygments_lexer": "ipython3",
   "version": "3.12.10"
  }
 },
 "nbformat": 4,
 "nbformat_minor": 5
}
